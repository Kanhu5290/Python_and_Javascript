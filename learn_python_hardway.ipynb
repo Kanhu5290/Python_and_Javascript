{
 "cells": [
  {
   "cell_type": "code",
   "execution_count": 1,
   "id": "0d5eae0b-9481-4c0c-9205-40c3f5a8ffd1",
   "metadata": {
    "editable": true,
    "slideshow": {
     "slide_type": ""
    },
    "tags": []
   },
   "outputs": [
    {
     "name": "stdout",
     "output_type": "stream",
     "text": [
      "\tI'm tabbed in.\n",
      "I'm split\n",
      "on a line.\n",
      "I'm\\a\\cat.\n",
      "\n",
      "I'll do a list:\n",
      "\t*cat food\n",
      "\t*Fishies\n",
      "\t*Catnip\n",
      "\t*Grass\n",
      "\n"
     ]
    }
   ],
   "source": [
    "# Learn python the hard way\n",
    "# Exercise 10 \n",
    "# Excape sequence in  string that tell which double column is string and which is represent string\n",
    "\"I am 6'2\\\"tall.\"\n",
    "# escape double quote inside string\n",
    "'I am 6\\'2\\\"tall.'\n",
    "# escape single quote inside string\n",
    "\n",
    "tabby_cat = \"\\tI'm tabbed in.\" # \\t used for tab before string\n",
    "# \\is used to create new lin\n",
    "persian_cat = \"I'm split\\non a line.\"\n",
    "# \\ used with \\to print escape sequence\n",
    "backslash_cat = \"I'm\\\\a\\\\cat.\"\n",
    "fat_cat=\"\"\"\n",
    "I'll do a list:\n",
    "\\t*cat food\n",
    "\\t*Fishies\n",
    "\\t*Catnip\\n\\t*Grass\n",
    "\"\"\"\n",
    "print(tabby_cat)\n",
    "print(persian_cat)\n",
    "print(backslash_cat)\n",
    "print(fat_cat)"
   ]
  },
  {
   "cell_type": "code",
   "execution_count": 13,
   "id": "027fa59b-807f-47c2-8932-467c255f8531",
   "metadata": {},
   "outputs": [
    {
     "name": "stdout",
     "output_type": "stream",
     "text": [
      "How old are You?"
     ]
    },
    {
     "name": "stdin",
     "output_type": "stream",
     "text": [
      " 18\n"
     ]
    },
    {
     "name": "stdout",
     "output_type": "stream",
     "text": [
      "How tall are you?"
     ]
    },
    {
     "name": "stdin",
     "output_type": "stream",
     "text": [
      " 6\n"
     ]
    },
    {
     "name": "stdout",
     "output_type": "stream",
     "text": [
      "How much do you weight?"
     ]
    },
    {
     "name": "stdin",
     "output_type": "stream",
     "text": [
      " 70\n"
     ]
    },
    {
     "name": "stdout",
     "output_type": "stream",
     "text": [
      "So, you're 18old, 6 tall and 70 heavy.\n"
     ]
    }
   ],
   "source": [
    "# exercise 11\n",
    "# taking input from user\n",
    "print(\"How old are You?\", end = '')\n",
    "age = input()\n",
    "print(\"How tall are you?\", end = '')\n",
    "height = input()\n",
    "print(\"How much do you weight?\" , end ='')\n",
    "weight = input()\n",
    "print(f\"So, you're {age}old, {height} tall and {weight} heavy.\")\n"
   ]
  },
  {
   "cell_type": "code",
   "execution_count": 5,
   "id": "399c84d7-5062-4d0a-8e5a-a3672ee63edb",
   "metadata": {},
   "outputs": [
    {
     "name": "stdin",
     "output_type": "stream",
     "text": [
      "How old are you 25\n",
      "How tal are you 14\n",
      "How much dod you wigh 44\n"
     ]
    },
    {
     "name": "stdout",
     "output_type": "stream",
     "text": [
      "So you are 25 year old and 14 inch tall and 44 kg heavy. \n"
     ]
    }
   ],
   "source": [
    "# exercise 12\n",
    "# easier way for asking user\n",
    "# taking input from user by one line\n",
    "age = input(\"How old are you\")\n",
    "height = input(\"How tal are you\")\n",
    "weight = input(\"How much dod you wigh\")\n",
    "\n",
    "print(f\"So you are {age} year old and {height} inch tall and {weight} kg heavy. \")"
   ]
  },
  {
   "cell_type": "code",
   "execution_count": 11,
   "id": "d5177d11-071f-47e5-85e8-200b9fda51c7",
   "metadata": {},
   "outputs": [
    {
     "name": "stdout",
     "output_type": "stream",
     "text": [
      "The script is called: ex13.py\n",
      "Your first variable is: apple\n",
      "Your second variable is: banana\n",
      "Your third variable is: mango\n"
     ]
    },
    {
     "name": "stdin",
     "output_type": "stream",
     "text": [
      "How old are you? 12\n"
     ]
    },
    {
     "name": "stdout",
     "output_type": "stream",
     "text": [
      "ex13.py\n"
     ]
    }
   ],
   "source": [
    "# exercise 13 \n",
    "# more input method\n",
    "# we import sys library which has argv(argument variable)\n",
    "# it run on powershell\n",
    "# with argument like this : python exercise13.py hello hi nameste\n",
    "from sys import argv\n",
    "# read the Wyss section for how to run this : to run this we need to find directory \n",
    "argv = ['ex13.py','apple','banana','mango']\n",
    "script, first, second, third = argv \n",
    "# so the argv unpack and store as variable\n",
    "# means it take argument anything and unpack it and store as variable\n",
    "print(\"The script is called:\", script)\n",
    "print(\"Your first variable is:\", first)\n",
    "print(\"Your second variable is:\", second)\n",
    "print(\"Your third variable is:\", third)\n",
    "age = input(\"How old are you?\")\n",
    "# difference between argument and input \n",
    "# in input user give input while running the code\n",
    "# in argument you give input in command line\n",
    "# Summery\n",
    "\"\"\" import--> library --> sys --> call --> module --> argv --> variable equal to argv --> print --> variable\n",
    "==> to run this--> use powershell with argument in string like in next cell--> so it will run \n",
    "so what happening here is when we paas the argument ==> hello hi namaste --> these strings are value that unpack \n",
    "by the argv module to assighn it to the variable which we called and we can fun with it,==>so basically it unpack\n",
    "and assighn to the variable we also can use index format\"\"\"\n",
    "# index format \n",
    "print(argv[0])"
   ]
  },
  {
   "cell_type": "code",
   "execution_count": 1,
   "id": "912aa044-b9f8-41bf-a6e0-a0d96b3df894",
   "metadata": {},
   "outputs": [
    {
     "name": "stdout",
     "output_type": "stream",
     "text": [
      "The script is called: exercise_13.py\n",
      "Your first variable is: hello\n",
      "Your second variable is: hi\n",
      "Your third variable is: namaste\n"
     ]
    }
   ],
   "source": [
    "# to run the above cell we need command line \n",
    "# to access single line command line you can use character !\n",
    "!python exercise_13.py hello hi namaste"
   ]
  },
  {
   "cell_type": "code",
   "execution_count": 3,
   "id": "b720765c-89b9-46bb-a6ce-d39819dd3832",
   "metadata": {},
   "outputs": [
    {
     "name": "stdout",
     "output_type": "stream",
     "text": [
      "Hi skb, I'm the ex14.py script.\n",
      "I'd like to ask you a few questions.\n",
      "Do you like me skb\n"
     ]
    },
    {
     "name": "stdin",
     "output_type": "stream",
     "text": [
      "< 11\n"
     ]
    },
    {
     "name": "stdout",
     "output_type": "stream",
     "text": [
      "Where do uou live skb?\n"
     ]
    },
    {
     "name": "stdin",
     "output_type": "stream",
     "text": [
      "< 11\n"
     ]
    },
    {
     "name": "stdout",
     "output_type": "stream",
     "text": [
      "What kind of computer do you have?\n"
     ]
    },
    {
     "name": "stdin",
     "output_type": "stream",
     "text": [
      "< 11\n"
     ]
    },
    {
     "name": "stdout",
     "output_type": "stream",
     "text": [
      "\n",
      "Alright , so you said 11 about liking me.\n",
      "You licw in 11.\n",
      "Nor sure where that is.\n",
      "And you have a 11 computer.\n",
      "Nice.\n",
      "\n"
     ]
    },
    {
     "data": {
      "text/plain": [
       "'import --> library--> sys -- call module --> argv ==> variable name --> script ,username --> which value can be\\nassighned/ unpack => when it run by pass the argument -->\\narguments \"skb\" value--> that unpack and assighn to the variable script username'"
      ]
     },
     "execution_count": 3,
     "metadata": {},
     "output_type": "execute_result"
    }
   ],
   "source": [
    "# exercise 14\n",
    "# prompting and scripting \n",
    "from sys import argv\n",
    "args = ['ex14.py', 'skb']\n",
    "script, user_name = args\n",
    "prompt = '<'\n",
    "print(f\"Hi {user_name}, I'm the {script} script.\")\n",
    "print(\"I'd like to ask you a few questions.\")\n",
    "print(f\"Do you like me {user_name}\")\n",
    "likes = input(prompt)\n",
    "print(f\"Where do uou live {user_name}?\")\n",
    "lives = input(prompt)\n",
    "print(\"What kind of computer do you have?\")\n",
    "computer = input(prompt)\n",
    "print(f\"\"\"\n",
    "Alright , so you said {likes} about liking me.\n",
    "You licw in {lives}.\n",
    "Nor sure where that is.\n",
    "And you have a {computer} computer.\n",
    "Nice.\n",
    "\"\"\")\n",
    "# summery\n",
    "\"\"\"import --> library--> sys -- call module --> argv ==> variable name --> script ,username --> which value can be\n",
    "assighned/ unpack => when it run by pass the argument -->\n",
    "arguments \"skb\" value--> that unpack and assighn to the variable script username\"\"\"\n"
   ]
  },
  {
   "cell_type": "code",
   "execution_count": 3,
   "id": "123749d4-9c48-4fac-b746-c90de4a330c1",
   "metadata": {},
   "outputs": [
    {
     "name": "stdout",
     "output_type": "stream",
     "text": [
      "^C\n"
     ]
    }
   ],
   "source": [
    "# to run exercise_14.py\n",
    "!python exercise_14.py zed"
   ]
  },
  {
   "cell_type": "code",
   "execution_count": 5,
   "id": "8230ceb4-82e7-4d40-a829-3ed3686967fa",
   "metadata": {},
   "outputs": [
    {
     "name": "stdout",
     "output_type": "stream",
     "text": [
      "Here's your filefile15.txt\n",
      "line1\n",
      "hello\n",
      "How are you\n",
      "It is a sample text \n",
      "To read .txt file\n",
      "Type the filename again\n"
     ]
    },
    {
     "name": "stdin",
     "output_type": "stream",
     "text": [
      ">  file15.txt\n"
     ]
    },
    {
     "name": "stdout",
     "output_type": "stream",
     "text": [
      "line1\n",
      "hello\n",
      "How are you\n",
      "It is a sample text \n",
      "To read .txt file\n"
     ]
    },
    {
     "data": {
      "text/plain": [
       "'so above exercise is a script where we use both method argment and input method to open the file in same directory or open a folder'"
      ]
     },
     "execution_count": 5,
     "metadata": {},
     "output_type": "execute_result"
    }
   ],
   "source": [
    "# Exercise 15 \n",
    "# call library sys import module argv\n",
    "from sys import argv\n",
    "\n",
    "\"\"\"to pass the argument i call the list because the cell will show error\"\"\"\n",
    "args = ['ex15','file15.txt']\n",
    "\n",
    "# call the variable name\n",
    "script,filename=args\n",
    "\n",
    "txt = open(filename)\n",
    "print(f\"Here's your file{filename}\")\n",
    "txt2 = txt.read()\n",
    "print(txt2)\n",
    "print(\"Type the filename again\")\n",
    "file_again = input(\"> \")\n",
    "txt_again = open(file_again)\n",
    "print(txt_again.read())\n",
    "\n",
    "# summery \n",
    "'''so above exercise is a script where we use both method argment and input method to open the file in same directory or open a folder'''\n",
    "# it can also be run by creating .py file and run with bash terminal giving argument"
   ]
  },
  {
   "cell_type": "code",
   "execution_count": 21,
   "id": "becf78e8-2828-4f97-930d-4254b9d8b74c",
   "metadata": {},
   "outputs": [
    {
     "name": "stdout",
     "output_type": "stream",
     "text": [
      "Type a filename \n"
     ]
    },
    {
     "name": "stdin",
     "output_type": "stream",
     "text": [
      "--> file15.txt\n"
     ]
    },
    {
     "name": "stdout",
     "output_type": "stream",
     "text": [
      "hello world \n",
      "this is exercise 15\n",
      "it is a sample text file to run the code\n",
      "hope it will run\n",
      "\n"
     ]
    }
   ],
   "source": [
    "sk = \"how\"\n",
    "print(\"Type a filename \")\n",
    "filename = input('-->')\n",
    "txt = open(filename)\n",
    "print(txt.read())\n",
    "# it read the file in the same directory"
   ]
  },
  {
   "cell_type": "code",
   "execution_count": 11,
   "id": "31d5b777-a800-46ec-ba05-28c441e5d0f6",
   "metadata": {},
   "outputs": [
    {
     "name": "stdout",
     "output_type": "stream",
     "text": [
      "We're going to erase text.txt\n",
      "if you don't want that, hit CTRL-C(^C).\n",
      "if you do want that,hit RETURN.\n"
     ]
    },
    {
     "name": "stdin",
     "output_type": "stream",
     "text": [
      "? ^C\n"
     ]
    },
    {
     "name": "stdout",
     "output_type": "stream",
     "text": [
      "Opening the file...\n",
      "Truncating the file. Goodbye!\n",
      "Now I'm going to ask you for three lines.\n"
     ]
    },
    {
     "name": "stdin",
     "output_type": "stream",
     "text": [
      "line 1: \n",
      " ok\n",
      "line 2: \n",
      " done\n",
      "line 3: \n",
      " # nothing to worry\n"
     ]
    },
    {
     "name": "stdout",
     "output_type": "stream",
     "text": [
      "I'm going to write these to the file.\n",
      "We are finally closing it.\n"
     ]
    }
   ],
   "source": [
    "# in the previous exercise i tried to read file by the input method and argument method\n",
    "# now we read or write file in this exercise\n",
    "# exercise 16 \n",
    "# Reading and writing file\n",
    "\"\"\"So commands are \n",
    "    close --> close and save the file\n",
    "    read  --> read the content of the file\n",
    "    readline --> read one line at each content\n",
    "    truncate --> Empties the file , Watch out if you care about file\n",
    "    write(\"stuff\") --> write a stuff like that\n",
    "    seek(0) --> move to read write location to begining of the file\"\"\"\n",
    "# assighn the file to a variable\n",
    "filename = \"text.txt\"\n",
    "print(f\"We're going to erase {filename}\")\n",
    "print(\"if you don't want that, hit CTRL-C(^C).\")\n",
    "print(\"if you do want that,hit RETURN.\")\n",
    "input(\"?\")\n",
    "print(\"Opening the file...\")\n",
    "target = open(filename,'w')\n",
    "print(\"Truncating the file. Goodbye!\")\n",
    "target.truncate()\n",
    "\n",
    "print(\"Now I'm going to ask you for three lines.\")\n",
    "line1 = input(\"line 1: \\n\")\n",
    "line2 = input(\"line 2: \\n\")\n",
    "line3 = input(\"line 3: \\n\")\n",
    "print(\"I'm going to write these to the file.\")\n",
    "target.write(line1)\n",
    "target.write(line2)\n",
    "target.write(line3)\n",
    "print(\"We are finally closing it.\")\n",
    "target.close()"
   ]
  },
  {
   "cell_type": "code",
   "execution_count": null,
   "id": "7458eff1-dc08-4876-8849-92993c513351",
   "metadata": {},
   "outputs": [],
   "source": [
    "# running exercise 16 in terminal command\n",
    "!python ex16.py text.txt"
   ]
  },
  {
   "cell_type": "code",
   "execution_count": 3,
   "id": "bdff9be1-ede4-4041-a9eb-6737fa46d68e",
   "metadata": {},
   "outputs": [
    {
     "name": "stdin",
     "output_type": "stream",
     "text": [
      "line5 --> how are you\n"
     ]
    },
    {
     "name": "stdout",
     "output_type": "stream",
     "text": [
      "We are going to open the file text.txt\n"
     ]
    },
    {
     "data": {
      "text/plain": [
       "'how are you'"
      ]
     },
     "execution_count": 3,
     "metadata": {},
     "output_type": "execute_result"
    }
   ],
   "source": [
    "# Exercise 16 experiment\n",
    "# assighn filename to a variable\n",
    "\n",
    "#filename = \"text.txt\"\n",
    "# Open the file ,in the paranthesis filename and which option read or write\n",
    "target = open(\"text.txt\", 'w')\n",
    "# input the line and store in variable name line4\n",
    "line4 = input('line5 -->')\n",
    "# write the line that store in variable name line4\n",
    "target.write(line4)\n",
    "# save and close the file\n",
    "target.close()\n",
    "\n",
    "filename = \"text.txt\"\n",
    "print(f\"We are going to open the file {filename}\")\n",
    "#input(\"-->\")\n",
    "target = open(filename , 'r')\n",
    "#target = open(filename , 'w')\n",
    "target.read()\n",
    "#target = open(filename , 'w')\n",
    "#line4 = input(\"line 4 ==>\")\n",
    "#target.write(line4)\n",
    "#target.close()\n",
    "\n",
    "# summery\n",
    "#\"\"\"in this experiment concluded that first decided the filename --> then create another variable to open the file --> with decide read or write\n",
    "#--> to input value of the file from the user --> create a variable name line4 use input method and then write and then. --> use this to write method\n",
    "# and --> for save the file use close method\"\"\"\n"
   ]
  },
  {
   "cell_type": "code",
   "execution_count": 1,
   "id": "3b96f3c2-7f87-4ab7-af8b-bebde041b9eb",
   "metadata": {},
   "outputs": [
    {
     "name": "stdout",
     "output_type": "stream",
     "text": [
      "Copying fromtext.txt to new_test.txt\n",
      "The input file is 11 bytes long\n",
      "Does the output file exist? True\n",
      "Ready, hit RETURN to continue ,CTRL-C to abort.\n"
     ]
    },
    {
     "name": "stdin",
     "output_type": "stream",
     "text": [
      " start\n"
     ]
    },
    {
     "name": "stdout",
     "output_type": "stream",
     "text": [
      "Alright, all done.\n"
     ]
    }
   ],
   "source": [
    "# Exercise 17\n",
    "# copying one file elements to another file\n",
    "\n",
    "# calling argv module with sys library \n",
    "from sys import argv\n",
    "# calling exists module with os.path library\n",
    "from os.path import exists\n",
    "\n",
    "# assighn variable to the file name from which file it will be copied\n",
    "from_file = \"text.txt\"\n",
    "# assighn variable to the new file to which file will be copied\n",
    "to_file = \"new_test.txt\"\n",
    "\n",
    "# print a line which will show copy is perform which file to which file\n",
    "print(f\"Copying from{from_file} to {to_file}\")\n",
    "\n",
    "# first open the file\n",
    "# to open the file use open method and assighn a variable\n",
    "in_file = open(from_file)\n",
    "# to read or writ use filename.mehtod() and assighn a variable\n",
    "indata = in_file.read()\n",
    "\n",
    "# to show the how big the file we use len or length from strings \n",
    "print(f\"The input file is {len(indata)} bytes long\")\n",
    "# to show the new file has indata or not\n",
    "print(f\"Does the output file exist? {exists(to_file)}\")\n",
    "# to continue the operation ask user to continue or not\n",
    "print(\"Ready, hit RETURN to continue ,CTRL-C to abort.\")\n",
    "# it will take input from user for further process\n",
    "input()\n",
    "\n",
    "# now we will start copying to the new file\n",
    "\n",
    "# first open the file with open method and add write option\n",
    "out_file = open(to_file, 'w')\n",
    "# then use write method and input the data which store in the variable name indata\n",
    "out_file.write(indata)\n",
    "\n",
    "# print the copying process is complete\n",
    "print(\"Alright, all done.\")\n",
    "\n",
    "# To save and close the file use close method\n",
    "out_file.close()\n",
    "in_file.close()"
   ]
  },
  {
   "cell_type": "code",
   "execution_count": 19,
   "id": "0aea379d-1f55-44e1-99bf-fb6106644bb9",
   "metadata": {},
   "outputs": [
    {
     "name": "stdout",
     "output_type": "stream",
     "text": [
      "Copying fromtest.txt to new_test.txt\n"
     ]
    },
    {
     "name": "stderr",
     "output_type": "stream",
     "text": [
      "Traceback (most recent call last):\n",
      "  File \"C:\\Users\\sitakanta\\anaconda_projects\\ex17.py\", line 8, in <module>\n",
      "    in_file = open(from_file)\n",
      "              ^^^^^^^^^^^^^^^\n",
      "FileNotFoundError: [Errno 2] No such file or directory: 'test.txt'\n"
     ]
    }
   ],
   "source": [
    "# to run exercise 17\n",
    "!python ex17.py test new_test"
   ]
  },
  {
   "cell_type": "code",
   "execution_count": 1,
   "id": "17fd4b4b-d2f3-4d2d-8a98-b499d0b52cbd",
   "metadata": {},
   "outputs": [
    {
     "name": "stdout",
     "output_type": "stream",
     "text": [
      "arg1: zed, arg2: shaw,\n",
      "arg1: hello, arg2: World,\n",
      "None\n",
      "arg1: hello, arg2: world\n",
      "arg1: name\n",
      "I got nothin.\n"
     ]
    }
   ],
   "source": [
    "# Exercise 18.6\n",
    "# creating a function with scripts like argv where we need to run throurgh powershell\n",
    "\n",
    "def print_two(*args):\n",
    "    #args = [\"hello\", \"world\"] # if this line included then input is given to functio\n",
    "                            # if not then while calling the function i have to give parameter or argument\n",
    "    arg1,arg2 = args\n",
    "    print(f\"arg1: {arg1}, arg2: {arg2},\")\n",
    "\n",
    "# ok that * args is actually pointless we can just do this\n",
    "def print_two_again(arg1,arg2):\n",
    "    print(f\"arg1: {arg1}, arg2: {arg2}\")\n",
    "\n",
    "# this just take one argument\n",
    "def print_one(arg1):\n",
    "    print(f\"arg1: {arg1}\")\n",
    "\n",
    "# this one take no arguments \n",
    "\n",
    "def print_none():\n",
    "    print(\"I got nothin.\")\n",
    "\n",
    "\n",
    "print_two(\"zed\",\"shaw\")\n",
    "# So function with in print function return no value\n",
    "# so depending upon the function function can be called with in function\n",
    "print(print_two(\"hello\",\"World\"))\n",
    "print_two_again(\"hello\", \"world\")\n",
    "print_one(\"name\")\n",
    "print_none()"
   ]
  },
  {
   "cell_type": "code",
   "execution_count": 13,
   "id": "0467133e-1e8f-4f79-8bbb-be5e7a4c07de",
   "metadata": {},
   "outputs": [
    {
     "name": "stdout",
     "output_type": "stream",
     "text": [
      "arg1: hello\n",
      "number of cheese: 10\n",
      "number of crackers: 20\n",
      "The party is end enough.\n",
      "Thank you\n",
      "number of cheese: 2601\n",
      "number of crackers: 1150\n",
      "The party is end enough.\n",
      "Thank you\n",
      "number of cheese: 47\n",
      "number of crackers: 56\n",
      "The party is end enough.\n",
      "Thank you\n",
      "number of cheese: 39\n",
      "number of crackers: 39\n",
      "The party is end enough.\n",
      "Thank you\n",
      "number of cheese: -28\n",
      "number of crackers: 127\n",
      "The party is end enough.\n",
      "Thank you\n"
     ]
    }
   ],
   "source": [
    "# Exercise19\n",
    "# Functions and Variables\n",
    "\n",
    "# combining function and variables\n",
    "\n",
    "def print_one(arg1):\n",
    "\n",
    "    print(f\"arg1: {arg1}\")\n",
    "\n",
    "# create a variable and assighning a value\n",
    "y = \"hello\"\n",
    "\n",
    "# call the function pass argument as y\n",
    "print_one(y)\n",
    "\n",
    "# more play with function and variable\n",
    "def cheese_and_crackers(number_of_cheese,number_of_crackers):\n",
    "    print(f'number of cheese: {number_of_cheese}')\n",
    "    print(f\"number of crackers: {number_of_crackers}\")\n",
    "    print(\"The party is end enough.\")\n",
    "    print(\"Thank you\")\n",
    "\n",
    "# calling the function with number\n",
    "cheese_and_crackers(10,20)\n",
    "\n",
    "# calling the function with operation of number\n",
    "cheese_and_crackers(20+29*89,25*46+32-32)\n",
    "\n",
    "# calling the function with variable\n",
    "aoch = 47 # aoch stands for amount of cheese\n",
    "aocr = 56 # aocr stands for amount of crackers\n",
    "\n",
    "cheese_and_crackers(aoch,aocr)\n",
    "\n",
    "# calling the function with variable and number\n",
    "aoc = 39 # aoc stands for amount of crackers\n",
    "cheese_and_crackers(39,aoc)\n",
    "\n",
    "# calling the function with variable and number operation\n",
    "# using aoch and aocr variable\n",
    "cheese_and_crackers(aoch-25*3,aocr+24+aoch)\n"
   ]
  },
  {
   "cell_type": "code",
   "execution_count": 35,
   "id": "6431c870-88da-4cae-bd14-01fba7b3b9c1",
   "metadata": {},
   "outputs": [
    {
     "name": "stdout",
     "output_type": "stream",
     "text": [
      "First let's print the whole file:\n",
      "\n",
      "This is line 1 \n",
      "This is line 2\n",
      "This is line 3\n",
      "\n",
      "Now let's rewind, kind of like a tape.\n",
      "Let's print three lines.\n",
      "1 This is line 1 \n",
      "\n",
      "2 This is line 2\n",
      "\n",
      "3 This is line 3\n",
      "\n"
     ]
    }
   ],
   "source": [
    "# exercise20\n",
    "# Functions and Files\n",
    "\n",
    "# calling the argv module from sys library\n",
    "from sys import argv\n",
    "\n",
    "# passing argument inside the code\n",
    "argv = [\"ex20.py\",\"ex20_test.txt\"]\n",
    "\n",
    "# unpacking argument and assign to variable\n",
    "script, input_file = argv\n",
    "\n",
    "\n",
    "# creating function\n",
    "# defining function name as a print_all\n",
    "def print_all(f):\n",
    "    # it will take the input file name and do the read method on the file\n",
    "    print(f.read())\n",
    "\n",
    "# creating the function where read and write will start from 0\n",
    "def rewind(f):\n",
    "    # this function take filename as argument and do operation seek 0 and will go to the initial position\n",
    "    # of read and write\n",
    "    f.seek(0)\n",
    "\n",
    "# creating a function which will read one line at a time\n",
    "# defining a function which will take two arguments\n",
    "def print_a_line(line_count,f):\n",
    "    # print the current line and readline one at a time\n",
    "    print(line_count,f.readline())\n",
    "    \n",
    "    \n",
    "current_file = open(input_file)\n",
    "print(\"First let's print the whole file:\\n\")\n",
    "            \n",
    "\n",
    "print_all(current_file)\n",
    "print(\"Now let's rewind, kind of like a tape.\")\n",
    "rewind(current_file)\n",
    "print(\"Let's print three lines.\")\n",
    "current_line = 1\n",
    "print_a_line(current_line,current_file)\n",
    "current_line = current_line + 1\n",
    "print_a_line(current_line,current_file)\n",
    "current_line = current_line + 1\n",
    "print_a_line(current_line,current_file)"
   ]
  },
  {
   "cell_type": "code",
   "execution_count": 31,
   "id": "0405bc0c-3be2-4895-8ee1-3ac2f2830300",
   "metadata": {},
   "outputs": [
    {
     "name": "stdin",
     "output_type": "stream",
     "text": [
      "Enter the file name \n",
      " --> ex20_test.txt\n"
     ]
    },
    {
     "name": "stdout",
     "output_type": "stream",
     "text": [
      "3 This is line 1 \n",
      "\n"
     ]
    }
   ],
   "source": [
    "# exercise 20 experiment\n",
    "# calling argv module from sys libary\n",
    "from sys import argv\n",
    "\n",
    "# passing argument\n",
    "argv = []\n",
    "\n",
    "# using input method for file\n",
    "\n",
    "#filename = input(\"Enter the filename \\n -->\")\n",
    "#line_number = input(\"Enter line number of file \\n -->\")\n",
    "\n",
    "# creating a function\n",
    "def readline_by_input(line_number,filename):\n",
    "    print(line_number,filename.readline()) # readline method read the line one at a time from 1\n",
    "\n",
    "# calling the function\n",
    "input_file = input(\"Enter the file name \\n -->\")\n",
    "openfile = open(input_file)\n",
    "readline_by_input(3,openfile)"
   ]
  },
  {
   "cell_type": "code",
   "execution_count": 7,
   "id": "b85fbcda-a76e-404a-bb37-e8e7e8ece2d9",
   "metadata": {},
   "outputs": [
    {
     "name": "stdout",
     "output_type": "stream",
     "text": [
      "ADDING 2 + 3\n",
      "SUBTRACTING 32 - 51\n",
      "multiplicating 24 * 90\n",
      "DIVISION 24 / 8\n",
      " age: 5 , subtract: -19 ,multiplication: 2160 , division: 3.0\n",
      "DIVISION 3.0 / 2\n",
      "SUBTRACTING 2160 - 1.5\n",
      "ADDING -19 + 2158.5\n",
      "multiplicating 5 * 2139.5\n",
      "see what is the surprise 10697.5 beauty or not\n"
     ]
    }
   ],
   "source": [
    "# exercise 21\n",
    "# function can return something \n",
    "# we are going to use RETURN keyword\n",
    "def add(a,b):\n",
    "    print(f\"ADDING {a} + {b}\")\n",
    "    return a + b\n",
    "\n",
    "def sub(a,b):\n",
    "    print(f\"SUBTRACTING {a} - {b}\")\n",
    "    return a - b\n",
    "\n",
    "def mul(a,b):\n",
    "    print(f'multiplicating {a} * {b}')\n",
    "    return a * b\n",
    "\n",
    "def div(a,b):\n",
    "    print(f\"DIVISION {a} / {b}\")\n",
    "    return a / b\n",
    "\n",
    "# calling the function\n",
    "age = add(2,3)\n",
    "s = sub(32,51)\n",
    "m = mul(24,90)\n",
    "d = div(24,8)\n",
    "\n",
    "print(f\" age: {age} , subtract: {s} ,multiplication: {m} , division: {d}\")\n",
    "24 / 8\n",
    "\n",
    "what = mul(age,add(s,sub(m,div(d,2))))\n",
    "\n",
    "print(\"see what is the surprise\",what,\"beauty or not\")"
   ]
  },
  {
   "cell_type": "code",
   "execution_count": 13,
   "id": "720d0ec5-b60e-485d-a51b-f6a1d3e99b32",
   "metadata": {},
   "outputs": [
    {
     "name": "stdout",
     "output_type": "stream",
     "text": [
      "b'Afrikaans' <===> Afrikaans\n",
      "b'\\xe1\\x8a\\xa0\\xe1\\x88\\x9b\\xe1\\x88\\xad\\xe1\\x8a\\x9b' <===> አማርኛ\n",
      "b'\\xd0\\x90\\xd2\\xa7\\xd1\\x81\\xd1\\x88\\xd3\\x99\\xd0\\xb0' <===> Аҧсшәа\n",
      "b'\\xd8\\xa7\\xd9\\x84\\xd8\\xb9\\xd8\\xb1\\xd8\\xa8\\xd9\\x8a\\xd8\\xa9' <===> العربية\n",
      "b'Aragon\\xc3\\xa9s' <===> Aragonés\n",
      "b'Arpetan' <===> Arpetan\n",
      "b'Az\\xc9\\x99rbaycanca' <===> Azərbaycanca\n",
      "b'Bamanankan' <===> Bamanankan\n",
      "b'\\xe0\\xa6\\xac\\xe0\\xa6\\xbe\\xe0\\xa6\\x82\\xe0\\xa6\\xb2\\xe0\\xa6\\xbe' <===> বাংলা\n",
      "b'B\\xc3\\xa2n-l\\xc3\\xa2m-g\\xc3\\xba' <===> Bân-lâm-gú\n",
      "b'\\xd0\\x91\\xd0\\xb5\\xd0\\xbb\\xd0\\xb0\\xd1\\x80\\xd1\\x83\\xd1\\x81\\xd0\\xba\\xd0\\xb0\\xd1\\x8f' <===> Беларуская\n",
      "b'\\xd0\\x91\\xd1\\x8a\\xd0\\xbb\\xd0\\xb3\\xd0\\xb0\\xd1\\x80\\xd1\\x81\\xd0\\xba\\xd0\\xb8' <===> Български\n",
      "b'Boarisch' <===> Boarisch\n",
      "b'Bosanski' <===> Bosanski\n",
      "b'\\xd0\\x91\\xd1\\x83\\xd1\\x80\\xd1\\x8f\\xd0\\xb0\\xd0\\xb4' <===> Буряад\n",
      "b'Catal\\xc3\\xa0' <===> Català\n",
      "b'\\xd0\\xa7\\xd3\\x91\\xd0\\xb2\\xd0\\xb0\\xd1\\x88\\xd0\\xbb\\xd0\\xb0' <===> Чӑвашла\n",
      "b'\\xc4\\x8ce\\xc5\\xa1tina' <===> Čeština\n",
      "b'Cymraeg' <===> Cymraeg\n",
      "b'Dansk' <===> Dansk\n",
      "b'Deutsch' <===> Deutsch\n",
      "b'Eesti' <===> Eesti\n",
      "b'\\xce\\x95\\xce\\xbb\\xce\\xbb\\xce\\xb7\\xce\\xbd\\xce\\xb9\\xce\\xba\\xce\\xac' <===> Ελληνικά\n",
      "b'Espa\\xc3\\xb1ol' <===> Español\n",
      "b'Esperanto' <===> Esperanto\n",
      "b'\\xd9\\x81\\xd8\\xa7\\xd8\\xb1\\xd8\\xb3\\xdb\\x8c' <===> فارسی\n",
      "b'Fran\\xc3\\xa7ais' <===> Français\n",
      "b'Frysk' <===> Frysk\n",
      "b'Gaelg' <===> Gaelg\n",
      "b'G\\xc3\\xa0idhlig' <===> Gàidhlig\n",
      "b'Galego' <===> Galego\n",
      "b'\\xed\\x95\\x9c\\xea\\xb5\\xad\\xec\\x96\\xb4' <===> 한국어\n",
      "b'\\xd5\\x80\\xd5\\xa1\\xd5\\xb5\\xd5\\xa5\\xd6\\x80\\xd5\\xa5\\xd5\\xb6' <===> Հայերեն\n",
      "b'\\xe0\\xa4\\xb9\\xe0\\xa4\\xbf\\xe0\\xa4\\xa8\\xe0\\xa5\\x8d\\xe0\\xa4\\xa6\\xe0\\xa5\\x80' <===> हिन्दी\n",
      "b'Hrvatski' <===> Hrvatski\n",
      "b'Ido' <===> Ido\n",
      "b'Interlingua' <===> Interlingua\n",
      "b'Italiano' <===> Italiano\n",
      "b'\\xd7\\xa2\\xd7\\x91\\xd7\\xa8\\xd7\\x99\\xd7\\xaa' <===> עברית\n",
      "b'\\xe0\\xb2\\x95\\xe0\\xb2\\xa8\\xe0\\xb3\\x8d\\xe0\\xb2\\xa8\\xe0\\xb2\\xa1' <===> ಕನ್ನಡ\n",
      "b'Kapampangan' <===> Kapampangan\n",
      "b'\\xe1\\x83\\xa5\\xe1\\x83\\x90\\xe1\\x83\\xa0\\xe1\\x83\\x97\\xe1\\x83\\xa3\\xe1\\x83\\x9a\\xe1\\x83\\x98' <===> ქართული\n",
      "b'\\xd2\\x9a\\xd0\\xb0\\xd0\\xb7\\xd0\\xb0\\xd2\\x9b\\xd1\\x88\\xd0\\xb0' <===> Қазақша\n",
      "b'Krey\\xc3\\xb2l ayisyen' <===> Kreyòl ayisyen\n",
      "b'Latga\\xc4\\xbcu' <===> Latgaļu\n",
      "b'Latina' <===> Latina\n",
      "b'Latvie\\xc5\\xa1u' <===> Latviešu\n",
      "b'L\\xc3\\xabtzebuergesch' <===> Lëtzebuergesch\n",
      "b'Lietuvi\\xc5\\xb3' <===> Lietuvių\n",
      "b'Magyar' <===> Magyar\n",
      "b'\\xd0\\x9c\\xd0\\xb0\\xd0\\xba\\xd0\\xb5\\xd0\\xb4\\xd0\\xbe\\xd0\\xbd\\xd1\\x81\\xd0\\xba\\xd0\\xb8' <===> Македонски\n",
      "b'Malti' <===> Malti\n",
      "b'\\xe0\\xa4\\xae\\xe0\\xa4\\xb0\\xe0\\xa4\\xbe\\xe0\\xa4\\xa0\\xe0\\xa5\\x80' <===> मराठी\n",
      "b'\\xe1\\x83\\x9b\\xe1\\x83\\x90\\xe1\\x83\\xa0\\xe1\\x83\\x92\\xe1\\x83\\x90\\xe1\\x83\\x9a\\xe1\\x83\\xa3\\xe1\\x83\\xa0\\xe1\\x83\\x98' <===> მარგალური\n",
      "b'\\xd9\\x85\\xd8\\xa7\\xd8\\xb2\\xd9\\x90\\xd8\\xb1\\xd9\\x88\\xd9\\x86\\xdb\\x8c' <===> مازِرونی\n",
      "b'Bahasa Melayu' <===> Bahasa Melayu\n",
      "b'\\xd0\\x9c\\xd0\\xbe\\xd0\\xbd\\xd0\\xb3\\xd0\\xbe\\xd0\\xbb' <===> Монгол\n",
      "b'Nederlands' <===> Nederlands\n",
      "b'\\xe0\\xa4\\xa8\\xe0\\xa5\\x87\\xe0\\xa4\\xaa\\xe0\\xa4\\xbe\\xe0\\xa4\\xb2 \\xe0\\xa4\\xad\\xe0\\xa4\\xbe\\xe0\\xa4\\xb7\\xe0\\xa4\\xbe' <===> नेपाल भाषा\n",
      "b'\\xe6\\x97\\xa5\\xe6\\x9c\\xac\\xe8\\xaa\\x9e' <===> 日本語\n",
      "b'Norsk bokm\\xc3\\xa5l' <===> Norsk bokmål\n",
      "b'Nouormand' <===> Nouormand\n",
      "b'Occitan' <===> Occitan\n",
      "b'O\\xca\\xbbzbekcha/\\xd1\\x9e\\xd0\\xb7\\xd0\\xb1\\xd0\\xb5\\xd0\\xba\\xd1\\x87\\xd0\\xb0' <===> Oʻzbekcha/ўзбекча\n",
      "b'\\xe0\\xa8\\xaa\\xe0\\xa9\\xb0\\xe0\\xa8\\x9c\\xe0\\xa8\\xbe\\xe0\\xa8\\xac\\xe0\\xa9\\x80' <===> ਪੰਜਾਬੀ\n",
      "b'\\xd9\\xbe\\xd9\\x86\\xd8\\xac\\xd8\\xa7\\xd8\\xa8\\xdb\\x8c' <===> پنجابی\n",
      "b'\\xd9\\xbe\\xda\\x9a\\xd8\\xaa\\xd9\\x88' <===> پښتو\n",
      "b'Plattd\\xc3\\xbc\\xc3\\xbctsch' <===> Plattdüütsch\n",
      "b'Polski' <===> Polski\n",
      "b'Portugu\\xc3\\xaas' <===> Português\n",
      "b'Rom\\xc3\\xa2n\\xc4\\x83' <===> Română\n",
      "b'Romani' <===> Romani\n",
      "b'\\xd0\\xa0\\xd1\\x83\\xd1\\x81\\xd1\\x81\\xd0\\xba\\xd0\\xb8\\xd0\\xb9' <===> Русский\n",
      "b'Seeltersk' <===> Seeltersk\n",
      "b'Shqip' <===> Shqip\n",
      "b'Simple English' <===> Simple English\n",
      "b'Sloven\\xc4\\x8dina' <===> Slovenčina\n",
      "b'\\xda\\xa9\\xd9\\x88\\xd8\\xb1\\xd8\\xaf\\xdb\\x8c\\xdb\\x8c \\xd9\\x86\\xd8\\xa7\\xd9\\x88\\xdb\\x95\\xd9\\x86\\xd8\\xaf\\xdb\\x8c' <===> کوردیی ناوەندی\n",
      "b'\\xd0\\xa1\\xd1\\x80\\xd0\\xbf\\xd1\\x81\\xd0\\xba\\xd0\\xb8 / srpski' <===> Српски / srpski\n",
      "b'Suomi' <===> Suomi\n",
      "b'Svenska' <===> Svenska\n",
      "b'Tagalog' <===> Tagalog\n",
      "b'\\xe0\\xae\\xa4\\xe0\\xae\\xae\\xe0\\xae\\xbf\\xe0\\xae\\xb4\\xe0\\xaf\\x8d' <===> தமிழ்\n",
      "b'\\xe0\\xb8\\xa0\\xe0\\xb8\\xb2\\xe0\\xb8\\xa9\\xe0\\xb8\\xb2\\xe0\\xb9\\x84\\xe0\\xb8\\x97\\xe0\\xb8\\xa2' <===> ภาษาไทย\n",
      "b'Taqbaylit' <===> Taqbaylit\n",
      "b'\\xd0\\xa2\\xd0\\xb0\\xd1\\x82\\xd0\\xb0\\xd1\\x80\\xd1\\x87\\xd0\\xb0/tatar\\xc3\\xa7a' <===> Татарча/tatarça\n",
      "b'\\xe0\\xb0\\xa4\\xe0\\xb1\\x86\\xe0\\xb0\\xb2\\xe0\\xb1\\x81\\xe0\\xb0\\x97\\xe0\\xb1\\x81' <===> తెలుగు\n",
      "b'\\xd0\\xa2\\xd0\\xbe\\xd2\\xb7\\xd0\\xb8\\xd0\\xba\\xd3\\xa3' <===> Тоҷикӣ\n",
      "b'T\\xc3\\xbcrk\\xc3\\xa7e' <===> Türkçe\n",
      "b'\\xd0\\xa3\\xd0\\xba\\xd1\\x80\\xd0\\xb0\\xd1\\x97\\xd0\\xbd\\xd1\\x81\\xd1\\x8c\\xd0\\xba\\xd0\\xb0' <===> Українська\n",
      "b'\\xd8\\xa7\\xd8\\xb1\\xd8\\xaf\\xd9\\x88' <===> اردو\n",
      "b'Ti\\xe1\\xba\\xbfng Vi\\xe1\\xbb\\x87t' <===> Tiếng Việt\n",
      "b'V\\xc3\\xb5ro' <===> Võro\n",
      "b'\\xe6\\x96\\x87\\xe8\\xa8\\x80' <===> 文言\n",
      "b'\\xe5\\x90\\xb4\\xe8\\xaf\\xad' <===> 吴语\n",
      "b'\\xd7\\x99\\xd7\\x99\\xd6\\xb4\\xd7\\x93\\xd7\\x99\\xd7\\xa9' <===> ייִדיש\n",
      "b'\\xe4\\xb8\\xad\\xe6\\x96\\x87' <===> 中文\n"
     ]
    }
   ],
   "source": [
    "# Exercise 21\n",
    "# Strings, Bytes, and Character Encodings\n",
    "\n",
    "\n",
    "# How modern computers store human languages for display\n",
    "# how python call this strings\n",
    "# how you must encode and decode python strings\n",
    "# How to handle errors\n",
    "# How to read code and find out what it means even you have never seen before\n",
    "\n",
    "# first we call the library sys \n",
    "import sys\n",
    "\n",
    "# passing the argument \n",
    "# argument containg filename and encoding and error\n",
    "sys.argv = [\"ex23.py\", \"utf-8\", \"ignore\"]\n",
    "\n",
    "# unpacking the argument and assign to variable\n",
    "script, encoding, error = sys.argv\n",
    "\n",
    "# creating a main function which take argument file name and encoding and errors \n",
    "def main(language_file, encoding, errors):\n",
    "    # read one line at a time\n",
    "    line = language_file.readline()\n",
    "    # using condition if and line value is not false execute this statement\n",
    "    if line:\n",
    "        # here if line value is true execute print_line function\n",
    "        # calling the print_line function\n",
    "        print_line(line, encoding, errors)\n",
    "        # using return keyword to call the main function \n",
    "        # so in the main function will  execute again\n",
    "        # so recursion and loop happend and it print until the line value is false\n",
    "        return main(language_file, encoding, errors)\n",
    "\n",
    "# creating print_line function which wil call in the main function\n",
    "# it take 3 arguments line, encoding, errors\n",
    "def print_line(line, encoding, errors):\n",
    "    # to remove white space in the value that assighned to line variable\n",
    "    next_lang = line.strip()\n",
    "    # after white space removed appling the encode method on next_lang where value is assighned which take argument encode type and errors\n",
    "    raw_bytes = next_lang.encode(encoding, errors = errors)\n",
    "    # after encoding happend use decode method on rawbytes where value is encoded which take argument encoding type and error \n",
    "    cooked_string = raw_bytes.decode(encoding, errors = errors)\n",
    "    # printline with encoding string equal to decode string\n",
    "    print(raw_bytes, \"<===>\", cooked_string)\n",
    "\n",
    "# use language variable to open languges.txt with encoading utf-8\n",
    "# so while opening basic english file we use open method with filename\n",
    "# if we do not pass encoding argumen os will encode in defult encoder\n",
    "languages = open(\"languages.txt\", encoding = \"utf-8\")\n",
    "# calling main function\n",
    "main(languages, encoding, error)\n",
    "\n",
    "# summery\n",
    "\"\"\"Encode is a mehtod to convert string to special character instead of doing binary they mapped number to the character\n",
    "and with different type of byte and symbol\n",
    "errors is occured when encoder can not encode some character they raise an error to tell compiler how to handle this error we use \n",
    "error keyword like\n",
    "Parameter\tPurpose\n",
    "errors='strict'\tRaise an error if encoding/decoding fails (default)\n",
    "errors='replace'\tReplace bad characters with placeholders\n",
    "errors='ignore'\tSkip characters that can’t be handled\n",
    "There are many more types of error parameter and encoding method\"\"\""
   ]
  },
  {
   "cell_type": "code",
   "execution_count": 16,
   "id": "c9e2a035-51ab-4e12-83a4-3830a8ea12ed",
   "metadata": {},
   "outputs": [],
   "source": [
    "# exercise23 experiment"
   ]
  },
  {
   "cell_type": "code",
   "execution_count": 7,
   "id": "80f0a3c8-ff4e-428d-9ff1-65c3985c3fce",
   "metadata": {},
   "outputs": [
    {
     "name": "stdout",
     "output_type": "stream",
     "text": [
      "let's practice everything\n",
      "You'd need to know 'bout escapes with \\ that do:\n",
      "----------\n",
      "\n",
      "\t The lovely world \n",
      "with logic so firmly planted\n",
      "cannot discern \n",
      " the needs of love \n",
      "nor comprehend passion from intuition \n",
      "and requires an explanation \n",
      "\t\t where there is notne\n",
      "\n",
      "----------\n",
      "This should be five: 5\n",
      "With a starting point of : 10000\n",
      "We'd have 5000000 beans, 5000.0 jars, and 50.0 crates.\n",
      "We can also do that this way:\n",
      "We'd have 500000.0 beans, 500.0 jars, and 5.0 creates.\n"
     ]
    }
   ],
   "source": [
    "# exercise24\n",
    "# mre practice\n",
    "\n",
    "print(\"let's practice everything\")\n",
    "print(\"You\\'d need to know \\'bout escapes with \\\\ that do:\")\n",
    "poem = \"\"\"\n",
    "\\t The lovely world \n",
    "with logic so firmly planted\n",
    "cannot discern \\n the needs of love \n",
    "nor comprehend passion from intuition \n",
    "and requires an explanation \\n\\t\\t where there is notne\n",
    "\"\"\"\n",
    "\n",
    "print(\"----------\")\n",
    "print(poem)\n",
    "print(\"----------\")\n",
    "\n",
    "five = 10 - 2 + 3 -6\n",
    "print(f\"This should be five: {five}\")\n",
    "\n",
    "def secret_formula(started):\n",
    "    jelly_beans = started * 500\n",
    "    jars = jelly_beans / 1000\n",
    "    crates = jars / 100\n",
    "    return jelly_beans, jars, crates\n",
    "\n",
    "start_point = 10000\n",
    "beans, jars, crates = secret_formula(start_point)\n",
    "\n",
    "# remember that this is another way to format a string\n",
    "# It is a type of formatting a string where in the paranthesis we can insert variable or function\n",
    "# if you want to print the index with .format we have to use {*} mark\n",
    "print(\"With a starting point of : {}\".format(start_point))\n",
    "# it's just like with an f\"\" string\n",
    "print(f\"We'd have {beans} beans, {jars} jars, and {crates} crates.\")\n",
    "\n",
    "start_point = start_point / 10\n",
    "\n",
    "print(\"We can also do that this way:\")\n",
    "formula = secret_formula(start_point)\n",
    "# this is an easy way to apply a list to a format string\n",
    "print(\"We'd have {} beans, {} jars, and {} creates.\".format(*secret_formula(start_point)))\n"
   ]
  },
  {
   "cell_type": "code",
   "execution_count": 4,
   "id": "4743ac7c-6a5a-48a4-a0af-f219f7ddd837",
   "metadata": {},
   "outputs": [],
   "source": [
    "# Exercise 25 \n",
    "# even more practice\n",
    "\n",
    "# first function to break words\n",
    "def break_words(stuff):\n",
    "    \"\"\"This function will break up words for us\"\"\"\n",
    "    words = stuff.split(' ')\n",
    "    return words\n",
    "\n",
    "# second function to sort words\n",
    "def sort_words(words):\n",
    "    \"\"\"sort the words\"\"\"\n",
    "    return  sorted(words)\n",
    "\n",
    "# third function to Popping it off\n",
    "def first_words(words):\n",
    "    \"\"\"It will pop the word\"\"\"\n",
    "    word = words.pop(0)\n",
    "    print(word)\n",
    "\n",
    "# fourth function to pop the last word\n",
    "def print_last_words(words):\n",
    "    \"\"\"print the last words\"\"\"\n",
    "    word = words.pop(-1)\n",
    "    print(word)\n",
    "\n",
    "# fifth functin to take full sentence\n",
    "def sort_sentence(sentence):\n",
    "    \"\"\"Takes in a full sentence and returns the sorted words\"\"\"\n",
    "    # calling the first function insid the function\n",
    "    words = break_words(sentence)\n",
    "    # calling the second function as return of executed first function\n",
    "    return sort_words(words)\n",
    "\n",
    "# sixth function to print first and last words \n",
    "# here we will call the third and fourth function\n",
    "def first_and_last(sentence):\n",
    "    \"\"\"print the first and last words of the sentence\"\"\"\n",
    "    words = break_words(sentence)\n",
    "    first_words(words)\n",
    "    print_last_words(words)\n",
    "\n",
    "# seventh function to sort and print first and last word\n",
    "def print_first_and_last_sorted(sentence):\n",
    "    \"\"\"break sort and pritn first and last word\"\"\"\n",
    "    words = break_words(sentence)\n",
    "    sort_words(words)\n",
    "    first_words(words)\n",
    "    print_last_words(words)\n",
    "\n"
   ]
  },
  {
   "cell_type": "code",
   "execution_count": 24,
   "id": "11a1b4b5-e550-4944-9d85-39bb9380258b",
   "metadata": {},
   "outputs": [],
   "source": [
    "# to run the ex25.py\n",
    "!python ex25.py"
   ]
  },
  {
   "cell_type": "code",
   "execution_count": 1,
   "id": "b22fcbd0-6e07-4345-9d3f-4a8fa4531839",
   "metadata": {},
   "outputs": [
    {
     "name": "stdout",
     "output_type": "stream",
     "text": [
      "after executing the break word function ['All', 'good', 'things', 'come', 'to', 'those', 'who', 'wait']\n",
      "after executing the function sort_words --> ['All', 'come', 'good', 'things', 'those', 'to', 'wait', 'who']\n",
      "it use the result of first function list and draw out first and last word\n",
      "All\n",
      "wait\n",
      "after executing first_woeds and last_words  ['All', 'come', 'good', 'things', 'those', 'to', 'wait', 'who']\n",
      "All\n",
      "who\n",
      "after executing first_woeds and on sorted words ['come', 'good', 'things', 'those', 'to', 'wait']\n",
      "after executing the sort_sentence where both break words and sort function used at once --> ['All', 'come', 'good', 'things', 'those', 'to', 'wait', 'who']\n",
      "draw out the first and last word of sentence variable\n",
      "All\n",
      "wait\n",
      "All\n",
      "wait\n",
      "It will print the ex25.py\n",
      "Help on module ex25:\n",
      "\n",
      "NAME\n",
      "    ex25\n",
      "\n",
      "DESCRIPTION\n",
      "    # Exercise 25\n",
      "    # even more practice\n",
      "\n",
      "FUNCTIONS\n",
      "    break_words(stuff)\n",
      "        This function will break up words for us\n",
      "\n",
      "    first_and_last(sentence)\n",
      "        print the first and last words of the sentence\n",
      "\n",
      "    first_words(words)\n",
      "        It will pop the word\n",
      "\n",
      "    print_first_and_last_sorted(sentence)\n",
      "        break sort and pritn first and last word\n",
      "\n",
      "    print_last_words(words)\n",
      "        print the last words\n",
      "\n",
      "    sort_sentence(sentence)\n",
      "        Takes in a full sentence and returns the sorted words\n",
      "\n",
      "    sort_words(words)\n",
      "        sort the words\n",
      "\n",
      "FILE\n",
      "    c:\\users\\sitakanta\\anaconda_projects\\ex25.py\n",
      "\n",
      "\n",
      "It will print the sentence inside the triple quote \" \n",
      "Help on function break_words in module ex25:\n",
      "\n",
      "break_words(stuff)\n",
      "    This function will break up words for us\n",
      "\n"
     ]
    }
   ],
   "source": [
    "# ex25 continue\n",
    "# importing ex25.py\n",
    "import ex25\n",
    "# if we don't wont to use the ex25.py \n",
    "\"\"\"it will call everything from ex25\"\"\"\n",
    "from ex25 import *\n",
    "# to restart the kernal \n",
    "quit()\n",
    "\n",
    "sentence = \"All good things come to those who wait\"\n",
    "words = break_words(sentence)\n",
    "print(\"after executing the break word function\",words)\n",
    "\n",
    "sorted_words = ex25.sort_words(words)\n",
    "print(\"after executing the function sort_words -->\",sorted_words)\n",
    "\n",
    "print(\"it use the result of first function list and draw out first and last word\")\n",
    "ex25.first_words(words)\n",
    "ex25.print_last_words(words)\n",
    "print(\"after executing first_woeds and last_words \" , sorted_words)\n",
    "\n",
    "\n",
    "ex25.first_words(sorted_words)\n",
    "ex25.print_last_words(sorted_words)\n",
    "print(\"after executing first_woeds and on sorted words\" , sorted_words)\n",
    "\n",
    "sorted_words = ex25.sort_sentence(sentence)\n",
    "print(\"after executing the sort_sentence where both break words and sort function used at once -->\",sorted_words)\n",
    "\n",
    "print(\"draw out the first and last word of sentence variable\")\n",
    "ex25.first_and_last(sentence)\n",
    "ex25.print_first_and_last_sorted(sentence)\n",
    "\n",
    "print(\"It will print the ex25.py\")\n",
    "help(ex25)\n",
    "#get help to know the break words function\n",
    "print(\"It will print the sentence inside the triple quote \\\"\"\" \")\n",
    "help(ex25.break_words)\n"
   ]
  },
  {
   "cell_type": "code",
   "execution_count": 25,
   "id": "ddf312cd-5d67-4800-a7e1-b50fbc0de821",
   "metadata": {},
   "outputs": [
    {
     "name": "stdout",
     "output_type": "stream",
     "text": [
      "How old are you? "
     ]
    },
    {
     "name": "stdin",
     "output_type": "stream",
     "text": [
      " 21\n"
     ]
    },
    {
     "name": "stdout",
     "output_type": "stream",
     "text": [
      "How tall are you? "
     ]
    },
    {
     "name": "stdin",
     "output_type": "stream",
     "text": [
      " 21\n"
     ]
    },
    {
     "name": "stdout",
     "output_type": "stream",
     "text": [
      "How much do you weigh? "
     ]
    },
    {
     "name": "stdin",
     "output_type": "stream",
     "text": [
      " 21\n"
     ]
    },
    {
     "name": "stdout",
     "output_type": "stream",
     "text": [
      "So, you're 21 old, 21 tall and 21 heavy.\n",
      "Here's your file text.txt:\n",
      "how are you\n",
      "Type the filename again:\n"
     ]
    },
    {
     "name": "stdin",
     "output_type": "stream",
     "text": [
      ">  text.txt\n"
     ]
    },
    {
     "name": "stdout",
     "output_type": "stream",
     "text": [
      "how are you\n",
      "let's practice everything. \n",
      "You ' d need to know ' bout escapes with \\ that do \n",
      " newlines and \t tabs. \n",
      "--------------\n",
      "\n",
      "\tThe lovely world\n",
      "with logic so firmly planted\n",
      "cannot discern \n",
      " the needs of love\n",
      "nor comprehend passion from intuition\n",
      "and requires an explanation\n",
      "\n",
      "\t\twhere there is none.\n",
      "\n",
      "--------------\n",
      "This should be five: 5\n",
      "With a starting point of: 10000\n",
      "We'd have 5000000 beans, 5000.0 jars, and 50.0 crates.\n",
      "We can also do that this way:\n",
      "We'd have 500000.0 beans, 500.0 jars, and 5.0 crates.\n",
      "Too many cats! The world is doomed!\n",
      "The world is dry!\n",
      "People are greater than or equal to dogs.\n",
      "People are less than or equal to dogs.\n",
      "People are dogs.\n"
     ]
    }
   ],
   "source": [
    "# exercise 26\n",
    "\n",
    "from sys import argv\n",
    "print(\"How old are you?\", end=' ')\n",
    "age = input()\n",
    "print(\"How tall are you?\", end=' ')\n",
    "height = input()\n",
    "print(\"How much do you weigh?\", end=' ')\n",
    "weight = input()\n",
    "\n",
    "print(f\"So, you're {age} old, {height} tall and {weight} heavy.\")\n",
    "\n",
    "argv = [\"ex25.txt\" , \"text.txt\"]\n",
    "\n",
    "script, filename = argv\n",
    "\n",
    "txt = open(filename)\n",
    "\n",
    "print(f\"Here's your file {filename}:\")\n",
    "print(txt.read())\n",
    "\n",
    "print(\"Type the filename again:\")\n",
    "file_again = input(\"> \")\n",
    "\n",
    "txt_again = open(file_again)\n",
    "\n",
    "print(txt_again.read())\n",
    "\n",
    "\n",
    "print('let\\'s practice everything. ')\n",
    "print('You \\' d need to know \\' bout escapes with \\\\ that do \\n newlines and \\t tabs. ')\n",
    "\n",
    "poem = \"\"\"\n",
    "\\tThe lovely world\n",
    "with logic so firmly planted\n",
    "cannot discern \\n the needs of love\n",
    "nor comprehend passion from intuition\n",
    "and requires an explanation\n",
    "\\n\\t\\twhere there is none.\n",
    "\"\"\"\n",
    "\n",
    "print(\"--------------\")\n",
    "print(poem)\n",
    "print(\"--------------\")\n",
    "\n",
    "\n",
    "five = 10 - 2 + 3 - 6\n",
    "print(f\"This should be five: {five}\")\n",
    "\n",
    "def secret_formula(started):\n",
    "    jelly_beans = started * 500\n",
    "    jars = jelly_beans / 1000\n",
    "    crates = jars  /100\n",
    "    return jelly_beans, jars, crates\n",
    "\n",
    "\n",
    "start_point = 10000\n",
    "\n",
    "# return value should be equal to new variable\n",
    "beans, jars, crates = secret_formula(start_point)\n",
    "\n",
    "# remember that this is another way to format a string\n",
    "print(\"With a starting point of: {}\".format(start_point))\n",
    "# it's just like with an f\"\" string\n",
    "print(f\"We'd have {beans} beans, {jars} jars, and {crates} crates.\")\n",
    "\n",
    "start_point = start_point / 10\n",
    "\n",
    "print(\"We can also do that this way:\")\n",
    "formula = secret_formula(start_point)\n",
    "# this is an easy way to apply a list to a format string\n",
    "print(\"We'd have {} beans, {} jars, and {} crates.\".format(*formula))\n",
    "\n",
    "\n",
    "\n",
    "people = 20\n",
    "cats = 30\n",
    "dogs = 15\n",
    "\n",
    "\n",
    "if people < cats:\n",
    "    print (\"Too many cats! The world is doomed!\")\n",
    "\n",
    "if people > cats:\n",
    "    print(\"Not many cats! The world is saved!\")\n",
    "\n",
    "if people < dogs:\n",
    "    print(\"The world is drooled on!\")\n",
    "\n",
    "if people > dogs:\n",
    "    print(\"The world is dry!\")\n",
    "\n",
    "\n",
    "dogs += 5\n",
    "\n",
    "if people >= dogs:\n",
    "    print(\"People are greater than or equal to dogs.\")\n",
    "\n",
    "if people <= dogs:\n",
    "    print(\"People are less than or equal to dogs.\")\n",
    "\n",
    "\n",
    "if people == dogs:\n",
    "    print(\"People are dogs.\")"
   ]
  },
  {
   "cell_type": "code",
   "execution_count": 27,
   "id": "4109e3b8-1330-4f67-ae08-d4fb19f6988b",
   "metadata": {},
   "outputs": [
    {
     "data": {
      "text/plain": [
       "True"
      ]
     },
     "execution_count": 27,
     "metadata": {},
     "output_type": "execute_result"
    }
   ],
   "source": [
    "# exercise 26\n",
    "# memorizing logic table \n",
    "# AND , OR , NOT, NOT AND , NOT OR , != , ==\n",
    "# exercise 27\n",
    "\n",
    "# boolean exercise\n",
    "\n",
    "True and False\n",
    "# False and True\n",
    "# True or False\n",
    "# False or False\n",
    "\n",
    "1 == 1 and 2 == 1\n",
    "\n",
    "\"test\" == \"test\"\n",
    "\n",
    "1 == 1 and 2 != 1\n",
    "\n",
    "True and 1 == 1\n",
    "\n",
    "False and 0 != 0\n",
    "\n",
    "True or 1==1\n",
    "\n",
    "False and 0 != 0\n",
    "\n",
    "True or 1==1\n",
    "\n",
    "'test' == 'testing'\n",
    "\n",
    "'test' == 1\n",
    "\n",
    "not(True and False)\n",
    "not(1==1 and 0 != 1)\n",
    "not(10==1 or 1000 == 1000)\n",
    "not(1 != 10 or 3 == 4)\n",
    "not('testing' == 'testing' and 'kanhu' == 'cool_guy')\n",
    "1 == 1 and not('testing' == 1 or 1 == 0)\n",
    "\n",
    "'chunkey' == 'bacon' or 3 == 3 and (not(3 == 4 and 3 == 3) or (not ('testing' == 'testing' or \"python\" == \"fun\")))"
   ]
  },
  {
   "cell_type": "code",
   "execution_count": 33,
   "id": "ac2d6f0d-16b5-4ead-ad84-166864c35849",
   "metadata": {},
   "outputs": [
    {
     "name": "stdout",
     "output_type": "stream",
     "text": [
      "There is not too many cats the world is safe\n",
      "The world is dry\n",
      "People are greater or equal to gods\n",
      "people are less than equal to gods\n",
      "people equal to dogs\n"
     ]
    }
   ],
   "source": [
    "# exercise 29\n",
    "# what if \n",
    "\n",
    "people = 20\n",
    "cats = 30 \n",
    "dogs = 15\n",
    "\n",
    "if people < cats: \n",
    "    print(\"There is not too many cats the world is safe\")\n",
    "\n",
    "if people > cats:\n",
    "    print(\"There is too many cats , The world is doomed\")\n",
    "\n",
    "if people < dogs:\n",
    "    print(\"The world is drooled on\")\n",
    "\n",
    "if people > dogs:\n",
    "    print(\"The world is dry\")\n",
    "\n",
    "dogs += 5\n",
    "\n",
    "if people >= dogs:\n",
    "    print(\"People are greater or equal to gods\")\n",
    "\n",
    "if people <= dogs:\n",
    "    print(\"people are less than equal to gods\")\n",
    "\n",
    "if people == dogs:\n",
    "    print(\"people equal to dogs\")\n",
    "\n"
   ]
  },
  {
   "cell_type": "code",
   "execution_count": 39,
   "id": "e323b48b-2281-47bb-8ebb-14526237cd56",
   "metadata": {},
   "outputs": [
    {
     "name": "stdin",
     "output_type": "stream",
     "text": [
      "Enter the number of people \n",
      " > 30\n",
      "Enter the number of cars\n",
      " > 40\n",
      "Enter the number of trucks \n",
      " > 15\n"
     ]
    },
    {
     "name": "stdout",
     "output_type": "stream",
     "text": [
      "We should take the cars\n",
      "We should take the cars\n",
      "Alright let's just take the trucks\n"
     ]
    }
   ],
   "source": [
    "# exercise 30\n",
    "# else if \n",
    "\n",
    "people = input(\"Enter the number of people \\n >\") #30\n",
    "cars = input(\"Enter the number of cars\\n >\") #40\n",
    "trucks = input(\"Enter the number of trucks \\n >\") #15\n",
    "\n",
    "if cars > people:\n",
    "    print(\"We should take the cars\")\n",
    "\n",
    "elif cars < people:\n",
    "    print(\"We should not take the cars\")\n",
    "\n",
    "else :\n",
    "    print(\"We can't decide\")\n",
    "\n",
    "if trucks > cars:\n",
    "    print(\"That's too many trucks\")\n",
    "\n",
    "elif trucks < cars:\n",
    "    print(\"We should take the cars\")\n",
    "\n",
    "else :\n",
    "    print(\"We still can't decide.\")\n",
    "\n",
    "if people > trucks:\n",
    "    print(\"Alright let's just take the trucks\")\n",
    "\n",
    "else:\n",
    "    print(\"Fine , Let's stay at the home\")"
   ]
  },
  {
   "cell_type": "code",
   "execution_count": 63,
   "id": "16ac5273-6b16-4b22-8476-7215e5964420",
   "metadata": {},
   "outputs": [
    {
     "name": "stdout",
     "output_type": "stream",
     "text": [
      "You Enter a room with two doors. \n",
      " do you go through door # 1 or # 2\n"
     ]
    },
    {
     "name": "stdin",
     "output_type": "stream",
     "text": [
      "> 3\n"
     ]
    },
    {
     "name": "stdout",
     "output_type": "stream",
     "text": [
      "You stumble around and fall on a knife and die good job!\n"
     ]
    }
   ],
   "source": [
    "# exercise 31\n",
    "# making decision\n",
    "\n",
    "print(\"You Enter a room with two doors. \\n do you go through door # 1 or # 2\")\n",
    "\n",
    "door = input(\">\")\n",
    "\n",
    "# string is not equal to number if we equating number to string then convert number to string\n",
    "if door == \"1\":\n",
    "    print(\"there is a giant bear is eating cheese cake \")\n",
    "    print(\"What do you do?\")\n",
    "    print(\"1. Take the cake \")\n",
    "    print(\"2. Scream at the bear\")\n",
    "    bear = input(\"> \")\n",
    "    if bear == \"1\":\n",
    "        print(\"The bear eats you face off. Good job!\")\n",
    "    elif bear == \"2\":\n",
    "        print(\"The bear eays your leg off. Good job!\")\n",
    "        #\n",
    "    else :\n",
    "        print(f\"Well doing {bear} is probably better\")\n",
    "        print(\"bear runs away\")\n",
    "\n",
    "elif door == \"2\":\n",
    "    print(\"You stare at endless abyss at cthulhu's retina.\")\n",
    "    print(\"1. Blueberries\")\n",
    "    print(\"2. Yellow jacket clothespins\")\n",
    "    print(\"3. understanding revolves yelling melodies\")\n",
    "    insanity = input (\"> \")\n",
    "    if insanity == \"1\" or insanity == \"2\":\n",
    "        print(\" Your body survives powered by mind of jellow\")\n",
    "        print(\" Good job\")\n",
    "    else : \n",
    "        print(\" The insanity rot your eyes into a pool of muck \")\n",
    "else :\n",
    "    print(\"You stumble around and fall on a knife and die good job!\")"
   ]
  },
  {
   "cell_type": "code",
   "execution_count": 3,
   "id": "1a99a69a-71af-436a-aaf4-83fcec84b571",
   "metadata": {},
   "outputs": [
    {
     "name": "stdout",
     "output_type": "stream",
     "text": [
      "This is count 1\n",
      "This is count 2\n",
      "This is count 3\n",
      "This is count 4\n",
      "This is count 5\n",
      "A fruit of type: apple\n",
      "A fruit of type: oranges\n",
      "A fruit of type: pears\n",
      "A fruit of type: apricots\n",
      "I got 1\n",
      "I got pennies\n",
      "I got 2\n",
      "I got dimes\n",
      "I got 3\n",
      "I got quarters\n",
      "adding 0 to the list\n",
      "adding 1 to the list\n",
      "adding 2 to the list\n",
      "adding 3 to the list\n",
      "adding 4 to the list\n",
      "adding 5 to the list\n",
      "Element was: 0\n",
      "Element was: 1\n",
      "Element was: 2\n",
      "Element was: 3\n",
      "Element was: 4\n",
      "Element was: 5\n",
      "[0, 1, 2, 3, 4, 5]\n"
     ]
    }
   ],
   "source": [
    "# exercise 32\n",
    "# Loops and lists\n",
    "\n",
    "hairs = ['brown' , 'blonde' , 'red']\n",
    "eyes = ['brown' , 'blue' , 'green']\n",
    "weights = [1, 2, 3, 4]\n",
    "\n",
    "the_count = [1, 2, 3, 4, 5]\n",
    "fruits = ['apple' , 'oranges', 'pears', 'apricots']\n",
    "change = [1, 'pennies', 2, 'dimes', 3, 'quarters']\n",
    "\n",
    "# using for loop in the_count list to count the number\n",
    "for number in the_count:\n",
    "    print(f\"This is count {number}\")\n",
    "\n",
    "# using for loop to print the elements in fruits list\n",
    "for fruit in fruits:\n",
    "    print(f\"A fruit of type: {fruit}\")\n",
    "\n",
    "# using for loop to print the elements in the list\n",
    "for i in change:\n",
    "    print(f\"I got {i}\")\n",
    "\n",
    "# inserting value in to the list\n",
    "# building a list with blank list \n",
    "\n",
    "elements = []\n",
    "for i in range (0,6):\n",
    "    print(f\"adding {i} to the list\")\n",
    "    # append is used to adding element to the list in the end\n",
    "    elements.append(i)\n",
    "\n",
    "# to print the elements of list \n",
    "for i in elements:\n",
    "    print(f\"Element was: {i}\")\n",
    "\n",
    "# to print the elements of list in list structure\n",
    "print(elements)\n",
    "\n",
    "\"\"\"To manipulate list it is like an array which store in memory \n",
    "you can call it by list_name[index_starting_from_0] and to do operation\n",
    "or to insert an element list.insert[index_or_location , 'element'] \n",
    "to insert an element in the end of the list use \n",
    "list.append(element)\n",
    "to remove an element\n",
    "list.remove(index)\n",
    "to pop out an element\n",
    "list.pop(index_number)\n",
    "to clear an list \n",
    "list.clear()\"\"\""
   ]
  },
  {
   "cell_type": "code",
   "execution_count": 11,
   "id": "1a4f997b-c19a-4469-8d9c-aa4af8b8cb6e",
   "metadata": {},
   "outputs": [
    {
     "name": "stdout",
     "output_type": "stream",
     "text": [
      "At the top i is 0\n",
      "Numbers now [0]\n",
      "At the bottom i is 1\n",
      "At the top i is 1\n",
      "Numbers now [0, 1]\n",
      "At the bottom i is 2\n",
      "At the top i is 2\n",
      "Numbers now [0, 1, 2]\n",
      "At the bottom i is 3\n",
      "At the top i is 3\n",
      "Numbers now [0, 1, 2, 3]\n",
      "At the bottom i is 4\n",
      "At the top i is 4\n",
      "Numbers now [0, 1, 2, 3, 4]\n",
      "At the bottom i is 5\n",
      "At the top i is 5\n",
      "Numbers now [0, 1, 2, 3, 4, 5]\n",
      "At the bottom i is 6\n",
      "[0, 1, 2, 3, 4, 5]\n",
      "0\n",
      "1\n",
      "2\n",
      "3\n",
      "4\n",
      "5\n"
     ]
    }
   ],
   "source": [
    "# Exercise 33\n",
    "# While loop\n",
    "\n",
    "i = 0\n",
    "numbers = []\n",
    "\n",
    "while i < 6:\n",
    "    print(f\"At the top i is {i}\")\n",
    "    numbers.append(i)\n",
    "    i = i+1\n",
    "    print(\"Numbers now\", numbers)\n",
    "    print(f\"At the bottom i is {i}\")\n",
    "\n",
    "print(numbers)\n",
    "\n",
    "for num in numbers:\n",
    "    print(num)\n",
    "\n",
    "star = []\n",
    "while i < 6:\n",
    "    i = '*'\n",
    "    star.append(i)\n",
    "    i = i + 1\n",
    "    print(star)\n",
    "    "
   ]
  },
  {
   "cell_type": "code",
   "execution_count": 21,
   "id": "b827bc00-8af8-4ceb-a26c-5a26e91aa33e",
   "metadata": {},
   "outputs": [
    {
     "name": "stdout",
     "output_type": "stream",
     "text": [
      "\n",
      "* \n",
      "* * \n",
      "* * * \n",
      "* * * * \n",
      "* * * * * \n"
     ]
    }
   ],
   "source": [
    "\n",
    "rows = 0\n",
    "for i in range (rows, 6, +1):\n",
    "    for j in range (i):\n",
    "        print(\"*\", end = \" \")\n",
    "    print()\n",
    "    "
   ]
  },
  {
   "cell_type": "code",
   "execution_count": 7,
   "id": "2ee173e2-12e3-4ab8-8b31-df3e6cae17c2",
   "metadata": {},
   "outputs": [
    {
     "name": "stdout",
     "output_type": "stream",
     "text": [
      "* * * * * \n",
      "* * * * \n",
      "* * * \n",
      "* * \n",
      "* \n"
     ]
    }
   ],
   "source": [
    "rows = 5  # You can change the number of rows here\n",
    "\n",
    "for i in range(rows, 0, -1):  # Outer loop for rows (decreasing)\n",
    "  for j in range(i):  # Inner loop for columns (stars)\n",
    "    print(\"*\", end=\" \") # Print star followed by a space\n",
    "  print() # Move to the next line after each row\n"
   ]
  },
  {
   "cell_type": "code",
   "execution_count": 1,
   "id": "c9ffcbed-e09c-469a-9d06-8046f1cd37b2",
   "metadata": {},
   "outputs": [
    {
     "name": "stdout",
     "output_type": "stream",
     "text": [
      "The animal at 1 is bear\n",
      "The (3rd) animal is : peacock\n",
      "The first (1st) animal is : bear\n",
      "The animal at 3 is : peacock\n",
      "The fifth animal is : whale\n",
      "The animal at 2 : python3.6\n",
      "The sixth (6th) animal is : platypus\n",
      "The animal at 4 : kangaroo\n"
     ]
    }
   ],
   "source": [
    "# Exercise 34\n",
    "# Accessing elements of lists\n",
    "\n",
    "animals = ['bear', 'tiger', 'penguin', 'zebra']\n",
    "bear = animals[0]\n",
    "\n",
    "# so in programming ordinal is in order which start from 1\n",
    "# but in programming is cardinal which starting from 0\n",
    "\n",
    "animals = ['bear', 'python3.6', 'peacock', 'kangaroo', 'whale', 'platypus']\n",
    "\n",
    "print(f\"The animal at 1 is {animals[0]}\")\n",
    "print(\"The (3rd) animal is : {}\".format(animals[2]))\n",
    "print(\"The first (1st) animal is : {}\".format(animals[0]))\n",
    "print(\"The animal at 3 is : {}\" .format(animals[2]))\n",
    "print(\"The fifth animal is : {}\" .format(animals[4]))\n",
    "print(\"The animal at 2 : {}\" .format(animals[1]))\n",
    "print(\"The sixth (6th) animal is : {}\" .format(animals[5]))\n",
    "print(\"The animal at 4 : {}\" .format(animals[3]))"
   ]
  },
  {
   "cell_type": "code",
   "execution_count": 19,
   "id": "af5035eb-1e95-49a5-a98b-b4644dae06d5",
   "metadata": {},
   "outputs": [
    {
     "name": "stdout",
     "output_type": "stream",
     "text": [
      "This room is full of gold how much do you take?\n"
     ]
    },
    {
     "name": "stdin",
     "output_type": "stream",
     "text": [
      ">  14\n"
     ]
    },
    {
     "name": "stdout",
     "output_type": "stream",
     "text": [
      "ok\n"
     ]
    }
   ],
   "source": [
    "# Exercise 35\n",
    "# Branches and Functions\n",
    "\n",
    "from sys import exit\n",
    "\n",
    "def gold_room():\n",
    "    print(\"This room is full of gold how much do you take?\")\n",
    "    choice = input(\"> \")\n",
    "    if \"0\" in choice or \"1\" in choice :\n",
    "        how_much = int(choice)\n",
    "        if how_much < 50:\n",
    "            print(\"ok\")\n",
    "    else:\n",
    "        print(\"You are dead\")\n",
    "\n",
    "        \n",
    "\n",
    "gold_room()"
   ]
  },
  {
   "cell_type": "code",
   "execution_count": 1,
   "id": "5aa120ef-2fe7-4298-a370-23a1ab740d4e",
   "metadata": {},
   "outputs": [
    {
     "data": {
      "text/plain": [
       "'And then I will create a game with the The science of self learning'"
      ]
     },
     "execution_count": 1,
     "metadata": {},
     "output_type": "execute_result"
    }
   ],
   "source": [
    "# Exercise 36\n",
    "# Designing and Debugging\n",
    "\n",
    "# let's play a word game with bit of pschology\n",
    "\"\"\"I am creating a game so which will ask question to user and in a fun way it will decode everything about the user\n",
    "\"\"\"\n",
    "\"\"\"Ok first I will create a game with the summery of the book master your time master your life\"\"\"\n",
    "\"\"\"And then I will create a game with the The science of self learning\"\"\""
   ]
  },
  {
   "cell_type": "code",
   "execution_count": 3,
   "id": "f56f6f2d-de20-41b5-9506-f48df11bc57f",
   "metadata": {},
   "outputs": [
    {
     "data": {
      "text/plain": [
       "False"
      ]
     },
     "execution_count": 3,
     "metadata": {},
     "output_type": "execute_result"
    }
   ],
   "source": [
    "# Exercise 36\n",
    "# more with symbol or symbol review\n",
    "# as is a keyword of with as statement\n",
    "# It is about symbol review\n"
   ]
  },
  {
   "cell_type": "code",
   "execution_count": 3,
   "id": "f836fbae-bbc2-4bfe-abfd-e379c850a289",
   "metadata": {},
   "outputs": [
    {
     "name": "stdout",
     "output_type": "stream",
     "text": [
      "This room is full of gold. How much do you take?\n"
     ]
    },
    {
     "name": "stdin",
     "output_type": "stream",
     "text": [
      ">  21\n"
     ]
    },
    {
     "name": "stdout",
     "output_type": "stream",
     "text": [
      "Nice, you're not greedy, you win!\n"
     ]
    }
   ],
   "source": [
    " def gold_room():\n",
    "    print(\"This room is full of gold. How much do you take?\")\n",
    "\n",
    "    choice = input(\"> \")\n",
    "    if \"0\" in choice or \"1\" in choice:\n",
    "        how_much = int(choice)\n",
    "    else:\n",
    "        print(\"Man, learn to type a number.\")\n",
    "\n",
    "    if how_much < 50:\n",
    "        print(\"Nice, you're not greedy, you win!\")\n",
    "        exit(0)\n",
    "    else:\n",
    "        print(\"You greedy bastard!\")\n",
    "\n",
    "gold_room()"
   ]
  },
  {
   "cell_type": "code",
   "execution_count": 1,
   "id": "2ef87c9f-dc95-4232-8c2d-4d3127d1fd17",
   "metadata": {
    "scrolled": true
   },
   "outputs": [
    {
     "name": "stdout",
     "output_type": "stream",
     "text": [
      "This room is full of gold. How much do you take?\n"
     ]
    },
    {
     "name": "stdin",
     "output_type": "stream",
     "text": [
      ">  51\n"
     ]
    },
    {
     "name": "stdout",
     "output_type": "stream",
     "text": [
      "You greedy person! Good job!\n"
     ]
    }
   ],
   "source": [
    "from sys import exit\n",
    "\n",
    "def gold_room():\n",
    "    print(\"This room is full of gold. How much do you take?\")\n",
    "    choice = input(\"> \")\n",
    "    if \"0\" in choice or \"1\" in choice:\n",
    "        how_much = int(choice)\n",
    "    else:\n",
    "        dead(\"Man, learn to type a number.\")\n",
    "\n",
    "    if how_much < 50:\n",
    "        print(\"Nice, you're not greedy, you win!\")\n",
    "        exit(0)\n",
    "    else:\n",
    "        dead(\"You greedy person!\")\n",
    "\n",
    "def dead(why):\n",
    "    print(why, \"Good job!\")\n",
    "gold_room()"
   ]
  },
  {
   "cell_type": "code",
   "execution_count": 92,
   "id": "4e984e0e-9554-4cf6-a568-b1713d9833fe",
   "metadata": {},
   "outputs": [
    {
     "name": "stdout",
     "output_type": "stream",
     "text": [
      "\t tab\n",
      "123456789123456789\n",
      "\n",
      " newline\n",
      "\u0007\n",
      "\b hello\n",
      "\f",
      " hllo\n",
      "123456789123456789\n",
      "how are you\n",
      "A\n",
      "\u000b",
      "\n",
      "\\.\n"
     ]
    },
    {
     "name": "stderr",
     "output_type": "stream",
     "text": [
      "<>:23: SyntaxWarning: invalid escape sequence '\\.'\n",
      "<>:23: SyntaxWarning: invalid escape sequence '\\.'\n",
      "C:\\Users\\sitakanta\\AppData\\Local\\Temp\\ipykernel_9288\\4177125686.py:23: SyntaxWarning: invalid escape sequence '\\.'\n",
      "  print(\"\\.\")\n"
     ]
    }
   ],
   "source": [
    "print(\"\\t tab\")\n",
    "print(\"123456789123456789\")\n",
    "print(\"\\n newline\")\n",
    "# it is invalid syntax\n",
    "#print(\"\\/ \")\n",
    "#print(\"\\w hello \\w hello\")\n",
    "print(\"\\a\")\n",
    "print(\"\\b hello\")\n",
    "\n",
    "#print(\"\\c\")\n",
    "#it is printing \\d \n",
    "#print(\"\\d\")\n",
    "#print(\"\\e\")\n",
    "# define space\n",
    "print(\"\\f hllo\")\n",
    "print(\"123456789123456789\")\n",
    "#print(\"\\g \")\n",
    "#print(\"\\h \")\n",
    "print(\"is it fine\\r hello\\rhow are you\")# remove the string before it\n",
    "print(\"\\u0041\")# represent unicode of hexadicmal  \n",
    "print(\"\\v\")\n",
    "#print(\"\\x\")# represent unicode of hexadecimal\n",
    "print(\"\\.\")"
   ]
  },
  {
   "cell_type": "code",
   "execution_count": 97,
   "id": "1230d58f-c199-4bf6-a35a-2c1073f0b81f",
   "metadata": {},
   "outputs": [
    {
     "name": "stdin",
     "output_type": "stream",
     "text": [
      "Enter a number:  2\n"
     ]
    }
   ],
   "source": [
    "while True:\n",
    "    try:\n",
    "        user_input = int(input(\"Enter a number: \"))\n",
    "        break\n",
    "    except ValueError:\n",
    "        print(\"\\aInvalid input. Please enter a valid number.\", end=\"\\n\") \n",
    "        # The '\\a' generates a beep, and 'end=\"\\n\"' ensures a newline is added after the message\n"
   ]
  },
  {
   "cell_type": "code",
   "execution_count": null,
   "id": "e144cf7f-7f5a-48af-8d7a-711d24483fd9",
   "metadata": {},
   "outputs": [],
   "source": []
  }
 ],
 "metadata": {
  "kernelspec": {
   "display_name": "Python 3 (ipykernel)",
   "language": "python",
   "name": "python3"
  },
  "language_info": {
   "codemirror_mode": {
    "name": "ipython",
    "version": 3
   },
   "file_extension": ".py",
   "mimetype": "text/x-python",
   "name": "python",
   "nbconvert_exporter": "python",
   "pygments_lexer": "ipython3",
   "version": "3.12.7"
  }
 },
 "nbformat": 4,
 "nbformat_minor": 5
}
